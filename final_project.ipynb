{
 "cells": [
  {
   "cell_type": "markdown",
   "metadata": {},
   "source": [
    "# Final project:\n",
    "\n",
    "## Hand in instructions:\n",
    "\n",
    "This project is meant to be done by groups. Needless to say, everyone is expected to collaborate and try to create synergies among the different parts of the mini-project.\n",
    "\n",
    "Original answers are expected.\n",
    "\n",
    "You will need to upload a pdf with your final report to google class by the due date. Please, only one memeber of the group uploads the pdf and all the members' names are clearly indicated.\n",
    "\n",
    "Additionaly, upload the project to your github with all the steps we saw in class. \n",
    "\n",
    "\n",
    "## Requirements:\n",
    "\n",
    "We want to understand and model disease spread focusing on the COVID epidemic. We will first make ose of the COVID19_state.csv dataset to explore the real world data and then simulate a simple contagion model. All the questions below should be hand in in a report-like fashion (remember, this aims to be a project not a problem set). Include all the necesary figures and explanations to make the report explanatory.\n",
    "\n",
    "This project simulates an hypothetical policy analysis so we, the policy makers, are interested on the following :\n",
    "\n",
    "- How has been the evolution on the number of cases over time?\n",
    "- Do tests seem to have some effect?\n",
    "- What are the subgroups that suffered most?\n",
    "- If we were to do confinement measures by subgroups of populations, on which groups should we focus to stop the contagion early? \n",
    "\n",
    "\n",
    "## Model:\n",
    "\n",
    "In order to study beforehand the evolution of pandemics, epidemiodiologist model contagion mathematically. We will now simulate with python a simple model of contagion.\n",
    "\n",
    "- There is a total population of 1000 people. Each one can infect 3 other individuals per day with a probability of 0.05 (let's assume that they are totally independent). There are 10 persons initially infected. \n",
    "\n",
    "Simulate and plot the number of infected persons in the next 3 days.\n",
    "\n",
    "- How many days will it take for the full population to be infected?\n",
    "- Let's simulate a policy. Suposse we introduce vaccination at period 3. The implications of the vaccine are only for those that are still uninfected. For simplicity, their inmunity is modeled as a reduction in the probability that they get infected of 0.01 pp. How many infections result in the 10th day? \n",
    "\n"
   ]
  }
 ],
 "metadata": {
  "kernelspec": {
   "display_name": "Python 3.8.16 ('pyannote')",
   "language": "python",
   "name": "python3"
  },
  "language_info": {
   "name": "python",
   "version": "3.8.16"
  },
  "orig_nbformat": 4,
  "vscode": {
   "interpreter": {
    "hash": "8e5bc56a5e59828724b9606669ef2e877f786cc96978258679ba8b9f5956bc86"
   }
  }
 },
 "nbformat": 4,
 "nbformat_minor": 2
}
