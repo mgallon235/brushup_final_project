{
 "cells": [
  {
   "cell_type": "markdown",
   "metadata": {},
   "source": [
    "## What are the groups, that suffered most"
   ]
  },
  {
   "cell_type": "markdown",
   "metadata": {},
   "source": [
    "We tried the variables connected to the age  groups and the level of urbanisation."
   ]
  },
  {
   "cell_type": "code",
   "execution_count": 1,
   "metadata": {},
   "outputs": [],
   "source": [
    "import pandas as pd\n",
    "import matplotlib.pyplot as plt\n",
    "import numpy as np\n",
    "#from scipy.stats import iqr\n",
    "import seaborn as sns\n",
    "\n"
   ]
  },
  {
   "cell_type": "code",
   "execution_count": 3,
   "metadata": {},
   "outputs": [
    {
     "data": {
      "text/html": [
       "<div>\n",
       "<style scoped>\n",
       "    .dataframe tbody tr th:only-of-type {\n",
       "        vertical-align: middle;\n",
       "    }\n",
       "\n",
       "    .dataframe tbody tr th {\n",
       "        vertical-align: top;\n",
       "    }\n",
       "\n",
       "    .dataframe thead th {\n",
       "        text-align: right;\n",
       "    }\n",
       "</style>\n",
       "<table border=\"1\" class=\"dataframe\">\n",
       "  <thead>\n",
       "    <tr style=\"text-align: right;\">\n",
       "      <th></th>\n",
       "      <th>State</th>\n",
       "      <th>Tested</th>\n",
       "      <th>Infected</th>\n",
       "      <th>Deaths</th>\n",
       "      <th>Population</th>\n",
       "      <th>Pop Density</th>\n",
       "      <th>Gini</th>\n",
       "      <th>ICU Beds</th>\n",
       "      <th>Income</th>\n",
       "      <th>GDP</th>\n",
       "      <th>...</th>\n",
       "      <th>Hospitals</th>\n",
       "      <th>Health Spending</th>\n",
       "      <th>Pollution</th>\n",
       "      <th>Med-Large Airports</th>\n",
       "      <th>Temperature</th>\n",
       "      <th>Urban</th>\n",
       "      <th>Age 0-25</th>\n",
       "      <th>Age 26-54</th>\n",
       "      <th>Age 55+</th>\n",
       "      <th>School Closure Date</th>\n",
       "    </tr>\n",
       "  </thead>\n",
       "  <tbody>\n",
       "    <tr>\n",
       "      <th>0</th>\n",
       "      <td>Alaska</td>\n",
       "      <td>620170</td>\n",
       "      <td>17057</td>\n",
       "      <td>84</td>\n",
       "      <td>734002</td>\n",
       "      <td>1.2863</td>\n",
       "      <td>0.4081</td>\n",
       "      <td>119</td>\n",
       "      <td>59687</td>\n",
       "      <td>73205</td>\n",
       "      <td>...</td>\n",
       "      <td>21</td>\n",
       "      <td>11064</td>\n",
       "      <td>6.4</td>\n",
       "      <td>1.0</td>\n",
       "      <td>26.6</td>\n",
       "      <td>66.0</td>\n",
       "      <td>0.36</td>\n",
       "      <td>0.39</td>\n",
       "      <td>0.25</td>\n",
       "      <td>03/19/20</td>\n",
       "    </tr>\n",
       "    <tr>\n",
       "      <th>1</th>\n",
       "      <td>Alabama</td>\n",
       "      <td>1356420</td>\n",
       "      <td>194892</td>\n",
       "      <td>2973</td>\n",
       "      <td>4908621</td>\n",
       "      <td>96.9221</td>\n",
       "      <td>0.4847</td>\n",
       "      <td>1533</td>\n",
       "      <td>42334</td>\n",
       "      <td>45219</td>\n",
       "      <td>...</td>\n",
       "      <td>101</td>\n",
       "      <td>7281</td>\n",
       "      <td>8.1</td>\n",
       "      <td>1.0</td>\n",
       "      <td>62.8</td>\n",
       "      <td>59.0</td>\n",
       "      <td>0.33</td>\n",
       "      <td>0.37</td>\n",
       "      <td>0.31</td>\n",
       "      <td>03/16/20</td>\n",
       "    </tr>\n",
       "    <tr>\n",
       "      <th>2</th>\n",
       "      <td>Arkansas</td>\n",
       "      <td>1363429</td>\n",
       "      <td>113641</td>\n",
       "      <td>1985</td>\n",
       "      <td>3038999</td>\n",
       "      <td>58.4030</td>\n",
       "      <td>0.4719</td>\n",
       "      <td>732</td>\n",
       "      <td>42566</td>\n",
       "      <td>42454</td>\n",
       "      <td>...</td>\n",
       "      <td>88</td>\n",
       "      <td>7408</td>\n",
       "      <td>7.1</td>\n",
       "      <td>0.0</td>\n",
       "      <td>60.4</td>\n",
       "      <td>56.2</td>\n",
       "      <td>0.34</td>\n",
       "      <td>0.37</td>\n",
       "      <td>0.30</td>\n",
       "      <td>03/17/20</td>\n",
       "    </tr>\n",
       "    <tr>\n",
       "      <th>3</th>\n",
       "      <td>Arizona</td>\n",
       "      <td>1792602</td>\n",
       "      <td>248139</td>\n",
       "      <td>5982</td>\n",
       "      <td>7378494</td>\n",
       "      <td>64.9550</td>\n",
       "      <td>0.4713</td>\n",
       "      <td>1559</td>\n",
       "      <td>43650</td>\n",
       "      <td>48055</td>\n",
       "      <td>...</td>\n",
       "      <td>83</td>\n",
       "      <td>6452</td>\n",
       "      <td>9.7</td>\n",
       "      <td>1.0</td>\n",
       "      <td>60.3</td>\n",
       "      <td>89.8</td>\n",
       "      <td>0.33</td>\n",
       "      <td>0.36</td>\n",
       "      <td>0.30</td>\n",
       "      <td>03/16/20</td>\n",
       "    </tr>\n",
       "    <tr>\n",
       "      <th>4</th>\n",
       "      <td>California</td>\n",
       "      <td>18912501</td>\n",
       "      <td>930628</td>\n",
       "      <td>17672</td>\n",
       "      <td>39937489</td>\n",
       "      <td>256.3727</td>\n",
       "      <td>0.4899</td>\n",
       "      <td>7338</td>\n",
       "      <td>62586</td>\n",
       "      <td>74205</td>\n",
       "      <td>...</td>\n",
       "      <td>359</td>\n",
       "      <td>7549</td>\n",
       "      <td>12.8</td>\n",
       "      <td>9.0</td>\n",
       "      <td>59.4</td>\n",
       "      <td>95.0</td>\n",
       "      <td>0.33</td>\n",
       "      <td>0.40</td>\n",
       "      <td>0.26</td>\n",
       "      <td>03/19/20</td>\n",
       "    </tr>\n",
       "  </tbody>\n",
       "</table>\n",
       "<p>5 rows × 26 columns</p>\n",
       "</div>"
      ],
      "text/plain": [
       "        State    Tested  Infected  Deaths  Population  Pop Density    Gini  \\\n",
       "0      Alaska    620170     17057      84      734002       1.2863  0.4081   \n",
       "1     Alabama   1356420    194892    2973     4908621      96.9221  0.4847   \n",
       "2    Arkansas   1363429    113641    1985     3038999      58.4030  0.4719   \n",
       "3     Arizona   1792602    248139    5982     7378494      64.9550  0.4713   \n",
       "4  California  18912501    930628   17672    39937489     256.3727  0.4899   \n",
       "\n",
       "   ICU Beds  Income    GDP  ...  Hospitals  Health Spending  Pollution  \\\n",
       "0       119   59687  73205  ...         21            11064        6.4   \n",
       "1      1533   42334  45219  ...        101             7281        8.1   \n",
       "2       732   42566  42454  ...         88             7408        7.1   \n",
       "3      1559   43650  48055  ...         83             6452        9.7   \n",
       "4      7338   62586  74205  ...        359             7549       12.8   \n",
       "\n",
       "   Med-Large Airports  Temperature  Urban  Age 0-25  Age 26-54  Age 55+  \\\n",
       "0                 1.0         26.6   66.0      0.36       0.39     0.25   \n",
       "1                 1.0         62.8   59.0      0.33       0.37     0.31   \n",
       "2                 0.0         60.4   56.2      0.34       0.37     0.30   \n",
       "3                 1.0         60.3   89.8      0.33       0.36     0.30   \n",
       "4                 9.0         59.4   95.0      0.33       0.40     0.26   \n",
       "\n",
       "   School Closure Date  \n",
       "0             03/19/20  \n",
       "1             03/16/20  \n",
       "2             03/17/20  \n",
       "3             03/16/20  \n",
       "4             03/19/20  \n",
       "\n",
       "[5 rows x 26 columns]"
      ]
     },
     "execution_count": 3,
     "metadata": {},
     "output_type": "execute_result"
    }
   ],
   "source": [
    "df = pd.read_csv(r'COVID19_state.csv')\n",
    "df.head()"
   ]
  },
  {
   "cell_type": "code",
   "execution_count": null,
   "metadata": {},
   "outputs": [],
   "source": [
    "df.info()"
   ]
  },
  {
   "cell_type": "code",
   "execution_count": null,
   "metadata": {},
   "outputs": [],
   "source": [
    "df.describe()"
   ]
  },
  {
   "cell_type": "code",
   "execution_count": null,
   "metadata": {},
   "outputs": [],
   "source": [
    "# Calculate the correlation between number of effected and deaths\n",
    "df['Infected'].corr(df['Deaths'])"
   ]
  },
  {
   "cell_type": "code",
   "execution_count": null,
   "metadata": {},
   "outputs": [],
   "source": [
    "# Add the column, which shows the share of deaths in the total amount of infected\n",
    "df['Ratio of deaths over infected'] = df['Deaths']/df['Infected']\n",
    "print(df.head())"
   ]
  },
  {
   "cell_type": "markdown",
   "metadata": {},
   "source": [
    "## Covid effects in urban and rural areas"
   ]
  },
  {
   "cell_type": "code",
   "execution_count": null,
   "metadata": {},
   "outputs": [],
   "source": [
    "# Plot the distribution of the values in Urban column\n",
    "fig, ax = plt.subplots()\n",
    "ax.boxplot(df['Urban'])\n",
    "ax.set_xlabel('states')\n",
    "ax.set_ylabel('Urban')\n",
    "ax.set_title('Distribution of urbanisation level')\n",
    "plt.show()"
   ]
  },
  {
   "cell_type": "markdown",
   "metadata": {},
   "source": [
    "There are no outliers."
   ]
  },
  {
   "cell_type": "code",
   "execution_count": null,
   "metadata": {},
   "outputs": [],
   "source": [
    "# Plot relations between level of urbanisation and ratio of deaths over infected\n",
    "fig, ax = plt.subplots()\n",
    "ax.scatter(df['Urban'], df['Ratio of deaths over infected'])\n",
    "ax.set_xlabel('Share of urban population')\n",
    "ax.set_ylabel('Ratio of deaths over infected')\n",
    "ax.set_title('Relation between level of urbanisation of the state and the ratio of deaths over infected')\n",
    "plt.show()"
   ]
  },
  {
   "cell_type": "code",
   "execution_count": null,
   "metadata": {},
   "outputs": [],
   "source": [
    "# Calculate correlation between level of urbanisation and ratio of deaths over infected\n",
    "df['Urban'].corr(df['Ratio of deaths over infected'])"
   ]
  },
  {
   "cell_type": "markdown",
   "metadata": {},
   "source": [
    "Higher level of urbanisation is related to the higher level of deaths over infected."
   ]
  },
  {
   "cell_type": "code",
   "execution_count": null,
   "metadata": {},
   "outputs": [],
   "source": [
    "# Follow the same procedure for the 75% of values. Drop all the rows, if level of urbanisation < 87\n",
    "df_less_urban = df[df['Urban'] < 87]"
   ]
  },
  {
   "cell_type": "code",
   "execution_count": null,
   "metadata": {},
   "outputs": [],
   "source": [
    "# Plot relations between level of urbanisation and ratio of deaths over infected for less urbanised states only\n",
    "fig, ax = plt.subplots()\n",
    "ax.scatter(df_less_urban['Urban'], df_less_urban['Ratio of deaths over infected'])\n",
    "ax.set_xlabel('Share of urban population')\n",
    "ax.set_ylabel('Ratio of deaths over infected')\n",
    "ax.set_title('Relation between level of urbanisation of the state and the ratio of deaths of infected')\n",
    "plt.show()"
   ]
  },
  {
   "cell_type": "code",
   "execution_count": null,
   "metadata": {},
   "outputs": [],
   "source": [
    "# Calculate correlation between level of urbanisation and ratio of deaths over infected for less urbanised states\n",
    "df_less_urban['Urban'].corr(df_less_urban['Ratio of deaths over infected'])"
   ]
  },
  {
   "cell_type": "markdown",
   "metadata": {},
   "source": [
    "For less urbanised states correlation still exists, but it's quite low."
   ]
  },
  {
   "cell_type": "markdown",
   "metadata": {},
   "source": [
    "General overview: correlation between level of urbanisation and ratio of deaths over infected is positive (means, the higher is the level of urbanisation, the higher is the number of deaths over the whole number of infected). Still, it's moderate. Probably, because it's biased: i assume, that the higher level of urbanisation, the higher is the level of infected over the whole population (cause the cities are just more crowded). But, on the other hand, i assume, that the is higher the level of urbanisation, the lower is the level of deaths over the whole population (cause of the level of medicine and (needs to be proven as well) the accessibility to ICU beds)."
   ]
  },
  {
   "cell_type": "code",
   "execution_count": null,
   "metadata": {},
   "outputs": [],
   "source": [
    "# Add the columns, which shows the share of deaths/infected in the whole population\n",
    "df['Infected over population'] = df['Infected']*df['Population']\n",
    "df['Deaths over population'] = df['Deaths']*df['Population']\n",
    "print(df.head())"
   ]
  },
  {
   "cell_type": "code",
   "execution_count": null,
   "metadata": {},
   "outputs": [],
   "source": [
    "# Plot relations between level of urbanisation and number of infected as a share of total population of the state\n",
    "fig, ax = plt.subplots()\n",
    "ax.scatter(df['Urban'], df['Infected over population'])\n",
    "ax.set_xlabel('Share of urban population')\n",
    "ax.set_ylabel('Share of infected')\n",
    "ax.set_title('Relation between level of urbanisation and share of infected, by states')\n",
    "plt.show()"
   ]
  },
  {
   "cell_type": "code",
   "execution_count": null,
   "metadata": {},
   "outputs": [],
   "source": [
    "# Calculate correlation level of urbanisation and number of infected as a share of total population of the state\n",
    "df['Urban'].corr(df['Infected over population'])"
   ]
  },
  {
   "cell_type": "markdown",
   "metadata": {},
   "source": [
    "Higher is level of urbanisation, more people are getting affected. Level of correlation is also moderate."
   ]
  },
  {
   "cell_type": "code",
   "execution_count": null,
   "metadata": {},
   "outputs": [],
   "source": [
    "# Plot relations between level of urbanisation and number of deaths as a share of total population of the state\n",
    "fig, ax = plt.subplots()\n",
    "ax.scatter(df['Urban'], df['Deaths over population'])\n",
    "ax.set_xlabel('Share of urban population')\n",
    "ax.set_ylabel('Share of deaths')\n",
    "ax.set_title('Relation between level of urbanisation and share of deaths, by states')\n",
    "plt.show()"
   ]
  },
  {
   "cell_type": "code",
   "execution_count": null,
   "metadata": {},
   "outputs": [],
   "source": [
    "# Calculate correlation between level of urbanisation and number of infected as a share of total population of the state\n",
    "df['Urban'].corr(df['Deaths over population'])"
   ]
  },
  {
   "cell_type": "markdown",
   "metadata": {},
   "source": [
    "Higher is level of urbanisation, more people are getting affected. Correlation is moderate as well.\n",
    "NB the sign is surprising to me, i assumed, that death rate should be higher in the more rural areas because of lack of medicine and number of ICU beds."
   ]
  },
  {
   "cell_type": "code",
   "execution_count": null,
   "metadata": {},
   "outputs": [],
   "source": [
    "# Add the column, which shows the level of accessibility of ICU beds for population\n",
    "df['Ratio of ICU beds over population'] = df['ICU Beds']/df['Population']\n",
    "print(df.head())"
   ]
  },
  {
   "cell_type": "code",
   "execution_count": null,
   "metadata": {},
   "outputs": [],
   "source": [
    "# Plot relations between level of urbanisation and ratio of ICU beds over population of the state\n",
    "fig, ax = plt.subplots()\n",
    "ax.scatter(df['Urban'], df['Ratio of ICU beds over population'])\n",
    "ax.set_xlabel('Share of urban population')\n",
    "ax.set_ylabel('Ratio of ICU beds over population')\n",
    "ax.set_title('Relation between level of urbanisation of the state and the ratio ICU beds over population')\n",
    "plt.show()"
   ]
  },
  {
   "cell_type": "code",
   "execution_count": null,
   "metadata": {},
   "outputs": [],
   "source": [
    "# Plot relations between level of urbanisation and ratio of ICU beds over population of the state\n",
    "df['Urban'].corr(df['Ratio of ICU beds over population'])"
   ]
  },
  {
   "cell_type": "markdown",
   "metadata": {},
   "source": [
    "There is very weak and negative correlation. We can not say anything about the relations between level of urbanisation of the state and the accessability to the ICU beds. Seems, all states are provided with ICU beds kind of equally."
   ]
  },
  {
   "cell_type": "markdown",
   "metadata": {},
   "source": [
    "## Relation between sex ratio and the ratio of deaths over infected"
   ]
  },
  {
   "cell_type": "markdown",
   "metadata": {},
   "source": [
    "Defining the sex ratio as the ratio of the number of males to the number of females in a population. A sex ratio of 1.054688 would suggest that, on average, there are approximately 1.05 males for every female in the population. In that sense, a value below 1 indicates more females and a value above 1 indicates more males. As we can see from the mean of the 'Sex Ratio' column, there is more women than male in a 0.96 mean. As well, the correlation as we can see is strongly negative with a -0.49 value. This means that when the sex ratio decreases, the female population increases and most of the deaths are probably going to be women."
   ]
  },
  {
   "cell_type": "code",
   "execution_count": null,
   "metadata": {},
   "outputs": [],
   "source": [
    "df['Sex Ratio'].describe()"
   ]
  },
  {
   "cell_type": "code",
   "execution_count": null,
   "metadata": {},
   "outputs": [],
   "source": [
    "df_less_urban['Sex Ratio'].corr(df_less_urban['Ratio of deaths over infected'])"
   ]
  },
  {
   "cell_type": "markdown",
   "metadata": {},
   "source": [
    "## The effects of COVID for different age groups"
   ]
  },
  {
   "cell_type": "code",
   "execution_count": null,
   "metadata": {},
   "outputs": [],
   "source": [
    "# Plot the shares of different age groups for each state\n",
    "x = np.arange(len(df['State']))\n",
    "fig, ax = plt.subplots()\n",
    "bar_width = 0.25\n",
    "ax.bar(x - bar_width, df['Age 0-25'], bar_width, label='0-25')\n",
    "ax.bar(x, df['Age 26-54'], bar_width, label='26-54')\n",
    "ax.bar(x + bar_width, df['Age 55+'], bar_width, label='55+')\n",
    "#plt.xticks(x, df['State'])\n",
    "plt.xlabel('States')\n",
    "plt.ylabel('Shares (%)')\n",
    "plt.title('Shares of age groups in each state')\n",
    "plt.legend()\n",
    "plt.tight_layout()\n",
    "plt.show()"
   ]
  },
  {
   "cell_type": "markdown",
   "metadata": {},
   "source": [
    "For the majority of states the share od middle age groups is higher, than other two."
   ]
  },
  {
   "cell_type": "code",
   "execution_count": null,
   "metadata": {},
   "outputs": [],
   "source": [
    "# Check the correlation between age group and level of infected over population\n",
    "print(df['Age 0-25'].corr(df['Infected over population']))\n",
    "print(df['Age 26-54'].corr(df['Infected over population']))\n",
    "print(df['Age 55+'].corr(df['Infected over population']))"
   ]
  },
  {
   "cell_type": "code",
   "execution_count": null,
   "metadata": {},
   "outputs": [],
   "source": [
    "# Check the correlation between age group and level of deaths over population\n",
    "print(df['Age 0-25'].corr(df['Deaths over population']))\n",
    "print(df['Age 26-54'].corr(df['Deaths over population']))\n",
    "print(df['Age 55+'].corr(df['Deaths over population']))"
   ]
  },
  {
   "cell_type": "markdown",
   "metadata": {},
   "source": [
    "For young and middle age group in both cases, the higher is the age group share, the higher is the level of infected/dead over population. For the old group the relations are negative. Still, the correlation coefficients are very low. "
   ]
  },
  {
   "cell_type": "code",
   "execution_count": null,
   "metadata": {},
   "outputs": [],
   "source": [
    "# Check the correlation between age group and level of death rate for infected people\n",
    "print(df['Age 0-25'].corr(df['Ratio of deaths over infected']))\n",
    "print(df['Age 26-54'].corr(df['Ratio of deaths over infected']))\n",
    "print(df['Age 55+'].corr(df['Ratio of deaths over infected']))"
   ]
  },
  {
   "cell_type": "markdown",
   "metadata": {},
   "source": [
    "In this case, the higher share of young group, the lower level of deaths/infected. Correlation is moderate.\n",
    "For other two groups the answer shall be quite th oposite and correlation is weaker.\n",
    "The main problem here is the fact, that we don't know the ratio of deaths/infected over population for particular age groups separately. WIth the understanding, that the share of middle age group is constantly higher than for other two, i assume, that it translates most of the effect.\n",
    "In this case, we need to come with some age index for every state (one value per state)."
   ]
  },
  {
   "cell_type": "markdown",
   "metadata": {},
   "source": [
    "To build the following index we assign coefficient = 1 to a young group (0-25), coefficient = 2 to a middle age group (26-54) and coefficient = 3 to an old group (55+), then we weight it according to the share of each group in the population of the state. The age index itself is a sum of three coefficients weighted."
   ]
  },
  {
   "cell_type": "code",
   "execution_count": null,
   "metadata": {},
   "outputs": [],
   "source": [
    "# Create an age index with the \"weighted\" values for each age group\n",
    "df['Age 0-25, weighted'] = df['Age 0-25']*1\n",
    "df['Age 26-54, weighted'] = df['Age 26-54']*2\n",
    "df['Age 55+, weighted'] = df['Age 55+']*3\n",
    "df['Age index'] = df['Age 0-25, weighted'] + df['Age 26-54, weighted'] + df['Age 55+, weighted']\n",
    "print(df.head())"
   ]
  },
  {
   "cell_type": "code",
   "execution_count": null,
   "metadata": {},
   "outputs": [],
   "source": [
    "# Plot the distribution of the values of age index\n",
    "fig, ax = plt.subplots()\n",
    "ax.boxplot(df['Age index'])\n",
    "ax.set_xlabel('states')\n",
    "ax.set_ylabel('Age index')\n",
    "ax.set_title('Distribution of age index values')\n",
    "plt.show()"
   ]
  },
  {
   "cell_type": "code",
   "execution_count": null,
   "metadata": {},
   "outputs": [],
   "source": [
    "# Calculate outliers for age index\n",
    "# NB I don't know why it doesn't run sometimes, but we don't actually need to remove outliers, so we can easily skip it\n",
    "df['Age index'].median()\n",
    "#iqr = iqr(df['Age index'])\n",
    "q1 = df['Age index'].quantile(0.25)\n",
    "q3 = df['Age index'].quantile(0.75)\n",
    "iqr = q3 - q1\n",
    "lower_threshhold = np.quantile(df['Age index'], 0.25) - 1.5 * iqr\n",
    "upper_threshhold = np.quantile(df['Age index'], 0.75) + 1.5 * iqr\n",
    "df_lower = df[df['Age index'] <= lower_threshhold]\n",
    "print(df_lower)\n",
    "df_upper = df[df['Age index'] >= upper_threshhold]\n",
    "print(df_upper)"
   ]
  },
  {
   "cell_type": "code",
   "execution_count": null,
   "metadata": {},
   "outputs": [],
   "source": [
    "# Plot relations between age index and ratio of death over infected\n",
    "fig, ax = plt.subplots()\n",
    "ax.scatter(df['Age index'], df['Ratio of deaths over infected'])\n",
    "ax.set_xlabel('Age index')\n",
    "ax.set_ylabel('Ratio of deaths over infected')\n",
    "ax.set_title('Relation between weight of age groups in each state and the ratio of death over infected')\n",
    "plt.show()"
   ]
  },
  {
   "cell_type": "code",
   "execution_count": null,
   "metadata": {},
   "outputs": [],
   "source": [
    "# Calculate correlations between age index and ratio of death over infected, as well as number of infected/deaths as a share of the whole population of the state\n",
    "print(df['Age index'].corr(df['Ratio of deaths over infected']))\n",
    "print(df['Age index'].corr(df['Infected over population']))\n",
    "print(df['Age index'].corr(df['Deaths over population']))"
   ]
  },
  {
   "cell_type": "markdown",
   "metadata": {},
   "source": [
    "For \"older\" states the death rate of infected is higher, but in te opposite way, the shares of infected/deaths in the whole population for the \"older\" states are lower. Anyway, the correlations are quite weak, so we can not state, there are particular relations.\n",
    "NB I guess, we can leave just the first one. Even considering the fact, that correlation is not strong, it's easier to interpret. The reason for a weak correlation is the simplicity of weithening approach and the low variance of the index. Probably, shall come with some more sophisticated ideas."
   ]
  },
  {
   "cell_type": "code",
   "execution_count": null,
   "metadata": {},
   "outputs": [],
   "source": [
    "# Remove outliers\n",
    "df_without_outliers = df[(df['Age index'] > 1.79) & (df['Age index'] <= 2.11)]"
   ]
  },
  {
   "cell_type": "code",
   "execution_count": null,
   "metadata": {},
   "outputs": [],
   "source": [
    "# Plot relations between age index and ratio of death over infected for the dataset without \"outlier\" states\n",
    "fig, ax = plt.subplots()\n",
    "ax.scatter(df_without_outliers['Age index'], df_without_outliers['Ratio of deaths over infected'])\n",
    "ax.set_xlabel('Age index')\n",
    "ax.set_ylabel('Ratio of deaths over infected')\n",
    "ax.set_title('Relation between weight of age groups in each state and the ratio of death over infected')\n",
    "plt.show()"
   ]
  },
  {
   "cell_type": "code",
   "execution_count": null,
   "metadata": {},
   "outputs": [],
   "source": [
    "# Calculate correlations between age index and ratio of death over infected, as well as number of infected/deaths as a share of the whole population of the state\n",
    "print(df_without_outliers['Age index'].corr(df_without_outliers['Ratio of deaths over infected']))\n",
    "print(df_without_outliers['Age index'].corr(df_without_outliers['Infected over population']))\n",
    "print(df_without_outliers['Age index'].corr(df_without_outliers['Deaths over population']))"
   ]
  },
  {
   "cell_type": "markdown",
   "metadata": {},
   "source": [
    "The level of correlations for the dataset without age outliers is quite the same as in the case with outliers. Both in terms of sign and significance."
   ]
  },
  {
   "cell_type": "markdown",
   "metadata": {},
   "source": [
    "## Affects of COVID on smokers and non-smokers"
   ]
  },
  {
   "cell_type": "code",
   "execution_count": null,
   "metadata": {},
   "outputs": [],
   "source": [
    "# Plot the distribution of the values in Smoking Rate column column\n",
    "fig, ax = plt.subplots()\n",
    "ax.boxplot(df['Smoking Rate'])\n",
    "ax.set_xlabel('states')\n",
    "ax.set_ylabel('Smoking Rate')\n",
    "ax.set_title('Distribution of smoking rate')\n",
    "plt.show()"
   ]
  },
  {
   "cell_type": "code",
   "execution_count": null,
   "metadata": {},
   "outputs": [],
   "source": [
    "# Plot relations between level of urbanisation and ratio of deaths over infected\n",
    "fig, ax = plt.subplots()\n",
    "ax.scatter(df['Smoking Rate'], df['Ratio of deaths over infected'])\n",
    "ax.set_xlabel('Smoking rate')\n",
    "ax.set_ylabel('Ratio of deaths over infected')\n",
    "ax.set_title('Relation between smoking rate of the state and the ratio of deaths over infected')\n",
    "plt.show()"
   ]
  },
  {
   "cell_type": "code",
   "execution_count": null,
   "metadata": {},
   "outputs": [],
   "source": [
    "# Calculate correlation between smoking rate and ratio of deaths over infected,as well as as well as number of infected/deaths as a share of the whole population of the state\n",
    "print(df['Smoking Rate'].corr(df['Ratio of deaths over infected']))\n",
    "print(df['Smoking Rate'].corr(df['Infected over population']))\n",
    "print(df['Smoking Rate'].corr(df['Deaths over population']))"
   ]
  },
  {
   "cell_type": "markdown",
   "metadata": {},
   "source": [
    "The level of correlation is not very high, but it shows that the higher smoking rate is, the lower ratio od death for infected people. The same can be said about the relation between smoking rate and shares of infected/deaths over population.\n",
    "NB it sound weird anyway, i can not interpret it really."
   ]
  },
  {
   "cell_type": "markdown",
   "metadata": {},
   "source": [
    "## Matrix of correlations"
   ]
  },
  {
   "cell_type": "code",
   "execution_count": null,
   "metadata": {},
   "outputs": [],
   "source": [
    "# Drop columns which can not be correlated\n",
    "df1 = df.drop(columns=['State','School Closure Date', 'Infected', 'Deaths', 'Population', 'ICU Beds', 'Flu Deaths', 'Respiratory Deaths', 'Physicians', 'Hospitals', 'Med-Large Airports', 'Tested', 'adultInf', 'youngInf', 'seniorInf', ])"
   ]
  },
  {
   "cell_type": "code",
   "execution_count": null,
   "metadata": {},
   "outputs": [],
   "source": [
    "# Check all the correlations possible\n",
    "correlation_matrix1 = df1.corr()\n",
    "print(correlation_matrix1)"
   ]
  },
  {
   "cell_type": "code",
   "execution_count": null,
   "metadata": {},
   "outputs": [],
   "source": [
    "# Map of correlation coefficients\n",
    "ax = sns.heatmap(df1.corr())"
   ]
  }
 ],
 "metadata": {
  "kernelspec": {
   "display_name": "Python 3 (ipykernel)",
   "language": "python",
   "name": "python3"
  },
  "language_info": {
   "codemirror_mode": {
    "name": "ipython",
    "version": 3
   },
   "file_extension": ".py",
   "mimetype": "text/x-python",
   "name": "python",
   "nbconvert_exporter": "python",
   "pygments_lexer": "ipython3",
   "version": "3.9.7"
  }
 },
 "nbformat": 4,
 "nbformat_minor": 2
}
